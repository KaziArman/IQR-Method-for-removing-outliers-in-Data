{
 "cells": [
  {
   "cell_type": "code",
   "execution_count": 1,
   "metadata": {},
   "outputs": [],
   "source": [
    "import pandas as pd\n",
    "import seaborn as sns\n",
    "import matplotlib.pyplot as plt\n",
    "import numpy as np"
   ]
  },
  {
   "cell_type": "code",
   "execution_count": 2,
   "metadata": {},
   "outputs": [],
   "source": [
    "df=pd.read_excel('wa comps.xlsx')"
   ]
  },
  {
   "cell_type": "code",
   "execution_count": 3,
   "metadata": {},
   "outputs": [
    {
     "data": {
      "text/plain": [
       "10458"
      ]
     },
     "execution_count": 3,
     "metadata": {},
     "output_type": "execute_result"
    }
   ],
   "source": [
    "len(df)"
   ]
  },
  {
   "cell_type": "code",
   "execution_count": 4,
   "metadata": {},
   "outputs": [
    {
     "data": {
      "text/html": [
       "<div>\n",
       "<style scoped>\n",
       "    .dataframe tbody tr th:only-of-type {\n",
       "        vertical-align: middle;\n",
       "    }\n",
       "\n",
       "    .dataframe tbody tr th {\n",
       "        vertical-align: top;\n",
       "    }\n",
       "\n",
       "    .dataframe thead th {\n",
       "        text-align: right;\n",
       "    }\n",
       "</style>\n",
       "<table border=\"1\" class=\"dataframe\">\n",
       "  <thead>\n",
       "    <tr style=\"text-align: right;\">\n",
       "      <th></th>\n",
       "      <th>type</th>\n",
       "      <th>date</th>\n",
       "      <th>price</th>\n",
       "      <th>area</th>\n",
       "      <th>unit</th>\n",
       "      <th>address</th>\n",
       "      <th>Per Acre Value</th>\n",
       "    </tr>\n",
       "  </thead>\n",
       "  <tbody>\n",
       "    <tr>\n",
       "      <th>0</th>\n",
       "      <td>Sold</td>\n",
       "      <td>2021-10-22</td>\n",
       "      <td>3000</td>\n",
       "      <td>0.010009</td>\n",
       "      <td>acre lot</td>\n",
       "      <td>530 Ne Ste Route, Darrington, WA 98241</td>\n",
       "      <td>3000.0</td>\n",
       "    </tr>\n",
       "    <tr>\n",
       "      <th>1</th>\n",
       "      <td>Sold</td>\n",
       "      <td>2021-11-19</td>\n",
       "      <td>3600</td>\n",
       "      <td>0.350000</td>\n",
       "      <td>acre lot</td>\n",
       "      <td>12603 107th Street Ct, Anderson Island, WA 98303</td>\n",
       "      <td>3600.0</td>\n",
       "    </tr>\n",
       "    <tr>\n",
       "      <th>2</th>\n",
       "      <td>Sold</td>\n",
       "      <td>2022-02-11</td>\n",
       "      <td>4500</td>\n",
       "      <td>0.121671</td>\n",
       "      <td>acre lot</td>\n",
       "      <td>SW 98th St Lot 1, Lakewood, WA 98498</td>\n",
       "      <td>4500.0</td>\n",
       "    </tr>\n",
       "    <tr>\n",
       "      <th>3</th>\n",
       "      <td>Sold</td>\n",
       "      <td>2022-02-11</td>\n",
       "      <td>5000</td>\n",
       "      <td>0.174472</td>\n",
       "      <td>acre lot</td>\n",
       "      <td>77th E, Sumner, WA 98390</td>\n",
       "      <td>5000.0</td>\n",
       "    </tr>\n",
       "    <tr>\n",
       "      <th>4</th>\n",
       "      <td>Sold</td>\n",
       "      <td>2021-11-17</td>\n",
       "      <td>5000</td>\n",
       "      <td>0.310000</td>\n",
       "      <td>acre lot</td>\n",
       "      <td>Bayshore Dr, Bellingham, WA 98226</td>\n",
       "      <td>5000.0</td>\n",
       "    </tr>\n",
       "  </tbody>\n",
       "</table>\n",
       "</div>"
      ],
      "text/plain": [
       "   type       date  price      area      unit  \\\n",
       "0  Sold 2021-10-22   3000  0.010009  acre lot   \n",
       "1  Sold 2021-11-19   3600  0.350000  acre lot   \n",
       "2  Sold 2022-02-11   4500  0.121671  acre lot   \n",
       "3  Sold 2022-02-11   5000  0.174472  acre lot   \n",
       "4  Sold 2021-11-17   5000  0.310000  acre lot   \n",
       "\n",
       "                                            address  Per Acre Value  \n",
       "0            530 Ne Ste Route, Darrington, WA 98241          3000.0  \n",
       "1  12603 107th Street Ct, Anderson Island, WA 98303          3600.0  \n",
       "2              SW 98th St Lot 1, Lakewood, WA 98498          4500.0  \n",
       "3                          77th E, Sumner, WA 98390          5000.0  \n",
       "4                 Bayshore Dr, Bellingham, WA 98226          5000.0  "
      ]
     },
     "execution_count": 4,
     "metadata": {},
     "output_type": "execute_result"
    }
   ],
   "source": [
    "df.head()"
   ]
  },
  {
   "cell_type": "code",
   "execution_count": 5,
   "metadata": {},
   "outputs": [],
   "source": [
    "def remove_sign(x,sign):\n",
    "    if type(x) is str:\n",
    "        x = float(x.replace(sign,'').replace(',',''))\n",
    "    return x"
   ]
  },
  {
   "cell_type": "code",
   "execution_count": 6,
   "metadata": {},
   "outputs": [
    {
     "ename": "KeyError",
     "evalue": "\"['Year'] not in index\"",
     "output_type": "error",
     "traceback": [
      "\u001b[1;31m---------------------------------------------------------------------------\u001b[0m",
      "\u001b[1;31mKeyError\u001b[0m                                  Traceback (most recent call last)",
      "\u001b[1;32m<ipython-input-6-ee92ae03ad53>\u001b[0m in \u001b[0;36m<module>\u001b[1;34m\u001b[0m\n\u001b[0;32m      3\u001b[0m \u001b[0mdt\u001b[0m \u001b[1;33m=\u001b[0m \u001b[0mdf\u001b[0m\u001b[1;33m\u001b[0m\u001b[1;33m\u001b[0m\u001b[0m\n\u001b[0;32m      4\u001b[0m \u001b[0mdt\u001b[0m\u001b[1;33m[\u001b[0m\u001b[1;34m'Per Acre Value'\u001b[0m\u001b[1;33m]\u001b[0m \u001b[1;33m=\u001b[0m \u001b[0mdt\u001b[0m\u001b[1;33m[\u001b[0m\u001b[1;34m'Per Acre Value'\u001b[0m\u001b[1;33m]\u001b[0m\u001b[1;33m.\u001b[0m\u001b[0mapply\u001b[0m\u001b[1;33m(\u001b[0m\u001b[0mremove_sign\u001b[0m\u001b[1;33m,\u001b[0m\u001b[0msign\u001b[0m\u001b[1;33m=\u001b[0m\u001b[1;34m'$'\u001b[0m\u001b[1;33m)\u001b[0m\u001b[1;33m\u001b[0m\u001b[1;33m\u001b[0m\u001b[0m\n\u001b[1;32m----> 5\u001b[1;33m \u001b[0msns\u001b[0m\u001b[1;33m.\u001b[0m\u001b[0mboxplot\u001b[0m\u001b[1;33m(\u001b[0m\u001b[0my\u001b[0m\u001b[1;33m=\u001b[0m\u001b[1;34m'Per Acre Value'\u001b[0m\u001b[1;33m,\u001b[0m \u001b[0mx\u001b[0m\u001b[1;33m=\u001b[0m\u001b[1;34m'Year'\u001b[0m\u001b[1;33m,\u001b[0m\u001b[0mdata\u001b[0m\u001b[1;33m=\u001b[0m\u001b[0mdt\u001b[0m\u001b[1;33m[\u001b[0m\u001b[1;33m[\u001b[0m\u001b[1;34m'Per Acre Value'\u001b[0m\u001b[1;33m,\u001b[0m\u001b[1;34m'Year'\u001b[0m\u001b[1;33m]\u001b[0m\u001b[1;33m]\u001b[0m\u001b[1;33m)\u001b[0m\u001b[1;33m\u001b[0m\u001b[1;33m\u001b[0m\u001b[0m\n\u001b[0m\u001b[0;32m      6\u001b[0m \u001b[0mplt\u001b[0m\u001b[1;33m.\u001b[0m\u001b[0mxticks\u001b[0m\u001b[1;33m(\u001b[0m\u001b[0mrotation\u001b[0m\u001b[1;33m=\u001b[0m\u001b[1;36m90\u001b[0m\u001b[1;33m)\u001b[0m\u001b[1;33m\u001b[0m\u001b[1;33m\u001b[0m\u001b[0m\n\u001b[0;32m      7\u001b[0m \u001b[0mplt\u001b[0m\u001b[1;33m.\u001b[0m\u001b[0mylabel\u001b[0m\u001b[1;33m(\u001b[0m\u001b[1;34m'Price ($)'\u001b[0m\u001b[1;33m)\u001b[0m\u001b[1;33m\u001b[0m\u001b[1;33m\u001b[0m\u001b[0m\n",
      "\u001b[1;32m~\\anaconda3\\lib\\site-packages\\pandas\\core\\frame.py\u001b[0m in \u001b[0;36m__getitem__\u001b[1;34m(self, key)\u001b[0m\n\u001b[0;32m   3028\u001b[0m             \u001b[1;32mif\u001b[0m \u001b[0mis_iterator\u001b[0m\u001b[1;33m(\u001b[0m\u001b[0mkey\u001b[0m\u001b[1;33m)\u001b[0m\u001b[1;33m:\u001b[0m\u001b[1;33m\u001b[0m\u001b[1;33m\u001b[0m\u001b[0m\n\u001b[0;32m   3029\u001b[0m                 \u001b[0mkey\u001b[0m \u001b[1;33m=\u001b[0m \u001b[0mlist\u001b[0m\u001b[1;33m(\u001b[0m\u001b[0mkey\u001b[0m\u001b[1;33m)\u001b[0m\u001b[1;33m\u001b[0m\u001b[1;33m\u001b[0m\u001b[0m\n\u001b[1;32m-> 3030\u001b[1;33m             \u001b[0mindexer\u001b[0m \u001b[1;33m=\u001b[0m \u001b[0mself\u001b[0m\u001b[1;33m.\u001b[0m\u001b[0mloc\u001b[0m\u001b[1;33m.\u001b[0m\u001b[0m_get_listlike_indexer\u001b[0m\u001b[1;33m(\u001b[0m\u001b[0mkey\u001b[0m\u001b[1;33m,\u001b[0m \u001b[0maxis\u001b[0m\u001b[1;33m=\u001b[0m\u001b[1;36m1\u001b[0m\u001b[1;33m,\u001b[0m \u001b[0mraise_missing\u001b[0m\u001b[1;33m=\u001b[0m\u001b[1;32mTrue\u001b[0m\u001b[1;33m)\u001b[0m\u001b[1;33m[\u001b[0m\u001b[1;36m1\u001b[0m\u001b[1;33m]\u001b[0m\u001b[1;33m\u001b[0m\u001b[1;33m\u001b[0m\u001b[0m\n\u001b[0m\u001b[0;32m   3031\u001b[0m \u001b[1;33m\u001b[0m\u001b[0m\n\u001b[0;32m   3032\u001b[0m         \u001b[1;31m# take() does not accept boolean indexers\u001b[0m\u001b[1;33m\u001b[0m\u001b[1;33m\u001b[0m\u001b[1;33m\u001b[0m\u001b[0m\n",
      "\u001b[1;32m~\\anaconda3\\lib\\site-packages\\pandas\\core\\indexing.py\u001b[0m in \u001b[0;36m_get_listlike_indexer\u001b[1;34m(self, key, axis, raise_missing)\u001b[0m\n\u001b[0;32m   1264\u001b[0m             \u001b[0mkeyarr\u001b[0m\u001b[1;33m,\u001b[0m \u001b[0mindexer\u001b[0m\u001b[1;33m,\u001b[0m \u001b[0mnew_indexer\u001b[0m \u001b[1;33m=\u001b[0m \u001b[0max\u001b[0m\u001b[1;33m.\u001b[0m\u001b[0m_reindex_non_unique\u001b[0m\u001b[1;33m(\u001b[0m\u001b[0mkeyarr\u001b[0m\u001b[1;33m)\u001b[0m\u001b[1;33m\u001b[0m\u001b[1;33m\u001b[0m\u001b[0m\n\u001b[0;32m   1265\u001b[0m \u001b[1;33m\u001b[0m\u001b[0m\n\u001b[1;32m-> 1266\u001b[1;33m         \u001b[0mself\u001b[0m\u001b[1;33m.\u001b[0m\u001b[0m_validate_read_indexer\u001b[0m\u001b[1;33m(\u001b[0m\u001b[0mkeyarr\u001b[0m\u001b[1;33m,\u001b[0m \u001b[0mindexer\u001b[0m\u001b[1;33m,\u001b[0m \u001b[0maxis\u001b[0m\u001b[1;33m,\u001b[0m \u001b[0mraise_missing\u001b[0m\u001b[1;33m=\u001b[0m\u001b[0mraise_missing\u001b[0m\u001b[1;33m)\u001b[0m\u001b[1;33m\u001b[0m\u001b[1;33m\u001b[0m\u001b[0m\n\u001b[0m\u001b[0;32m   1267\u001b[0m         \u001b[1;32mreturn\u001b[0m \u001b[0mkeyarr\u001b[0m\u001b[1;33m,\u001b[0m \u001b[0mindexer\u001b[0m\u001b[1;33m\u001b[0m\u001b[1;33m\u001b[0m\u001b[0m\n\u001b[0;32m   1268\u001b[0m \u001b[1;33m\u001b[0m\u001b[0m\n",
      "\u001b[1;32m~\\anaconda3\\lib\\site-packages\\pandas\\core\\indexing.py\u001b[0m in \u001b[0;36m_validate_read_indexer\u001b[1;34m(self, key, indexer, axis, raise_missing)\u001b[0m\n\u001b[0;32m   1314\u001b[0m             \u001b[1;32mif\u001b[0m \u001b[0mraise_missing\u001b[0m\u001b[1;33m:\u001b[0m\u001b[1;33m\u001b[0m\u001b[1;33m\u001b[0m\u001b[0m\n\u001b[0;32m   1315\u001b[0m                 \u001b[0mnot_found\u001b[0m \u001b[1;33m=\u001b[0m \u001b[0mlist\u001b[0m\u001b[1;33m(\u001b[0m\u001b[0mset\u001b[0m\u001b[1;33m(\u001b[0m\u001b[0mkey\u001b[0m\u001b[1;33m)\u001b[0m \u001b[1;33m-\u001b[0m \u001b[0mset\u001b[0m\u001b[1;33m(\u001b[0m\u001b[0max\u001b[0m\u001b[1;33m)\u001b[0m\u001b[1;33m)\u001b[0m\u001b[1;33m\u001b[0m\u001b[1;33m\u001b[0m\u001b[0m\n\u001b[1;32m-> 1316\u001b[1;33m                 \u001b[1;32mraise\u001b[0m \u001b[0mKeyError\u001b[0m\u001b[1;33m(\u001b[0m\u001b[1;34mf\"{not_found} not in index\"\u001b[0m\u001b[1;33m)\u001b[0m\u001b[1;33m\u001b[0m\u001b[1;33m\u001b[0m\u001b[0m\n\u001b[0m\u001b[0;32m   1317\u001b[0m \u001b[1;33m\u001b[0m\u001b[0m\n\u001b[0;32m   1318\u001b[0m             \u001b[0mnot_found\u001b[0m \u001b[1;33m=\u001b[0m \u001b[0mkey\u001b[0m\u001b[1;33m[\u001b[0m\u001b[0mmissing_mask\u001b[0m\u001b[1;33m]\u001b[0m\u001b[1;33m\u001b[0m\u001b[1;33m\u001b[0m\u001b[0m\n",
      "\u001b[1;31mKeyError\u001b[0m: \"['Year'] not in index\""
     ]
    }
   ],
   "source": [
    "#df=df[['Per Acre Value','Year']]\n",
    "df=pd.DataFrame(df)\n",
    "dt = df\n",
    "dt['Per Acre Value'] = dt['Per Acre Value'].apply(remove_sign,sign='$')\n",
    "sns.boxplot(y='Per Acre Value', x='Year',data=dt[['Per Acre Value','Year']])\n",
    "plt.xticks(rotation=90)\n",
    "plt.ylabel('Price ($)')"
   ]
  },
  {
   "cell_type": "markdown",
   "metadata": {},
   "source": [
    "# Setting UP IQR Value"
   ]
  },
  {
   "cell_type": "code",
   "execution_count": 7,
   "metadata": {},
   "outputs": [],
   "source": [
    "au =dt['Per Acre Value'].quantile(0.75)\n",
    "bu= dt['Per Acre Value'].quantile(0.775) \n",
    "cu =dt['Per Acre Value'].quantile(0.80)\n",
    "du =dt['Per Acre Value'].quantile(0.825)\n",
    "eu =dt['Per Acre Value'].quantile(0.85)\n",
    "fu =dt['Per Acre Value'].quantile(0.875)\n",
    "gu =dt['Per Acre Value'].quantile(0.90)      \n",
    "hu =dt['Per Acre Value'].quantile(0.925)     \n",
    "iu =dt['Per Acre Value'].quantile(0.95)     \n",
    "ju =dt['Per Acre Value'].quantile(0.975)    \n",
    "ku =dt['Per Acre Value'].quantile(0.99)\n",
    "lu =dt['Per Acre Value'].quantile(0.999)"
   ]
  },
  {
   "cell_type": "code",
   "execution_count": 8,
   "metadata": {},
   "outputs": [],
   "source": [
    "data = {'Per Acre Value':[au,bu,cu,du,eu,fu,gu,hu,iu,ju,ku,lu],\n",
    "        'Upper Percentile Value':['75% quantile', '77.5% quantile', '80% quantile', '82.5% quantile','85% quantile','87.5% quantile',\n",
    "                            '90% quantile','92.5% quantile','95% quantile','97.5% quantile','99% quantile','99.9% quantile'],\n",
    "       'Spread':[0,bu-au,cu-bu,du-cu,eu-du,fu-eu,gu-fu,hu-gu,iu-hu,ju-iu,ku-ju,lu-ku]}\n",
    "  \n",
    "# Create DataFrame\n",
    "df_upper = pd.DataFrame(data)"
   ]
  },
  {
   "cell_type": "code",
   "execution_count": 9,
   "metadata": {},
   "outputs": [
    {
     "data": {
      "text/html": [
       "<div>\n",
       "<style scoped>\n",
       "    .dataframe tbody tr th:only-of-type {\n",
       "        vertical-align: middle;\n",
       "    }\n",
       "\n",
       "    .dataframe tbody tr th {\n",
       "        vertical-align: top;\n",
       "    }\n",
       "\n",
       "    .dataframe thead th {\n",
       "        text-align: right;\n",
       "    }\n",
       "</style>\n",
       "<table border=\"1\" class=\"dataframe\">\n",
       "  <thead>\n",
       "    <tr style=\"text-align: right;\">\n",
       "      <th></th>\n",
       "      <th>Per Acre Value</th>\n",
       "      <th>Upper Percentile Value</th>\n",
       "      <th>Spread</th>\n",
       "    </tr>\n",
       "  </thead>\n",
       "  <tbody>\n",
       "    <tr>\n",
       "      <th>0</th>\n",
       "      <td>1.582385e+05</td>\n",
       "      <td>75% quantile</td>\n",
       "      <td>0.000000e+00</td>\n",
       "    </tr>\n",
       "    <tr>\n",
       "      <th>1</th>\n",
       "      <td>1.750000e+05</td>\n",
       "      <td>77.5% quantile</td>\n",
       "      <td>1.676148e+04</td>\n",
       "    </tr>\n",
       "    <tr>\n",
       "      <th>2</th>\n",
       "      <td>1.917024e+05</td>\n",
       "      <td>80% quantile</td>\n",
       "      <td>1.670242e+04</td>\n",
       "    </tr>\n",
       "    <tr>\n",
       "      <th>3</th>\n",
       "      <td>2.123059e+05</td>\n",
       "      <td>82.5% quantile</td>\n",
       "      <td>2.060345e+04</td>\n",
       "    </tr>\n",
       "    <tr>\n",
       "      <th>4</th>\n",
       "      <td>2.475743e+05</td>\n",
       "      <td>85% quantile</td>\n",
       "      <td>3.526840e+04</td>\n",
       "    </tr>\n",
       "    <tr>\n",
       "      <th>5</th>\n",
       "      <td>2.899438e+05</td>\n",
       "      <td>87.5% quantile</td>\n",
       "      <td>4.236948e+04</td>\n",
       "    </tr>\n",
       "    <tr>\n",
       "      <th>6</th>\n",
       "      <td>3.499647e+05</td>\n",
       "      <td>90% quantile</td>\n",
       "      <td>6.002095e+04</td>\n",
       "    </tr>\n",
       "    <tr>\n",
       "      <th>7</th>\n",
       "      <td>4.250000e+05</td>\n",
       "      <td>92.5% quantile</td>\n",
       "      <td>7.503530e+04</td>\n",
       "    </tr>\n",
       "    <tr>\n",
       "      <th>8</th>\n",
       "      <td>5.749568e+05</td>\n",
       "      <td>95% quantile</td>\n",
       "      <td>1.499568e+05</td>\n",
       "    </tr>\n",
       "    <tr>\n",
       "      <th>9</th>\n",
       "      <td>9.500000e+05</td>\n",
       "      <td>97.5% quantile</td>\n",
       "      <td>3.750432e+05</td>\n",
       "    </tr>\n",
       "    <tr>\n",
       "      <th>10</th>\n",
       "      <td>1.674972e+06</td>\n",
       "      <td>99% quantile</td>\n",
       "      <td>7.249715e+05</td>\n",
       "    </tr>\n",
       "    <tr>\n",
       "      <th>11</th>\n",
       "      <td>5.352352e+06</td>\n",
       "      <td>99.9% quantile</td>\n",
       "      <td>3.677380e+06</td>\n",
       "    </tr>\n",
       "  </tbody>\n",
       "</table>\n",
       "</div>"
      ],
      "text/plain": [
       "    Per Acre Value Upper Percentile Value        Spread\n",
       "0     1.582385e+05           75% quantile  0.000000e+00\n",
       "1     1.750000e+05         77.5% quantile  1.676148e+04\n",
       "2     1.917024e+05           80% quantile  1.670242e+04\n",
       "3     2.123059e+05         82.5% quantile  2.060345e+04\n",
       "4     2.475743e+05           85% quantile  3.526840e+04\n",
       "5     2.899438e+05         87.5% quantile  4.236948e+04\n",
       "6     3.499647e+05           90% quantile  6.002095e+04\n",
       "7     4.250000e+05         92.5% quantile  7.503530e+04\n",
       "8     5.749568e+05           95% quantile  1.499568e+05\n",
       "9     9.500000e+05         97.5% quantile  3.750432e+05\n",
       "10    1.674972e+06           99% quantile  7.249715e+05\n",
       "11    5.352352e+06         99.9% quantile  3.677380e+06"
      ]
     },
     "execution_count": 9,
     "metadata": {},
     "output_type": "execute_result"
    }
   ],
   "source": [
    "df_upper"
   ]
  },
  {
   "cell_type": "code",
   "execution_count": 10,
   "metadata": {
    "scrolled": true
   },
   "outputs": [
    {
     "data": {
      "text/plain": [
       "[<matplotlib.lines.Line2D at 0x237713a4df0>]"
      ]
     },
     "execution_count": 10,
     "metadata": {},
     "output_type": "execute_result"
    },
    {
     "data": {
      "image/png": "[encoded data removed]",
      "text/plain": [
       "<Figure size 432x288 with 1 Axes>"
      ]
     },
     "metadata": {
      "needs_background": "light"
     },
     "output_type": "display_data"
    }
   ],
   "source": [
    "plt.plot(df_upper.index,df_upper['Spread'])"
   ]
  },
  {
   "cell_type": "code",
   "execution_count": 11,
   "metadata": {},
   "outputs": [],
   "source": [
    "al =dt['Per Acre Value'].quantile(0.25)\n",
    "bl= dt['Per Acre Value'].quantile(0.225) \n",
    "cl =dt['Per Acre Value'].quantile(0.20)\n",
    "dl =dt['Per Acre Value'].quantile(0.175)\n",
    "el =dt['Per Acre Value'].quantile(0.15)\n",
    "fl =dt['Per Acre Value'].quantile(0.125)\n",
    "gl =dt['Per Acre Value'].quantile(0.10)      \n",
    "hl =dt['Per Acre Value'].quantile(0.085)     \n",
    "il =dt['Per Acre Value'].quantile(0.05)     \n",
    "jl =dt['Per Acre Value'].quantile(0.025)    \n",
    "kl =dt['Per Acre Value'].quantile(0.01)\n",
    "ll =dt['Per Acre Value'].quantile(0.001)"
   ]
  },
  {
   "cell_type": "code",
   "execution_count": 12,
   "metadata": {},
   "outputs": [],
   "source": [
    "data1 = {'Per Acre Value':[al,bl,cl,dl,el,fl,gl,hl,il,jl,kl,ll],\n",
    "        'Upper Percentile Value':['25% quantile', '22.5% quantile', '20% quantile', '17.5% quantile','15% quantile','12.5% quantile',\n",
    "                            '10% quantile','8.5% quantile','5% quantile','2.5% quantile','1% quantile','0.1% quantile'],\n",
    "        'Spread':[0,bl-al,cl-bl,dl-cl,el-dl,fl-el,gl-fl,hl-gl,il-hl,jl-il,kl-jl,ll-kl]}\n",
    "  \n",
    "# Create DataFrame\n",
    "df_lower = pd.DataFrame(data1)"
   ]
  },
  {
   "cell_type": "code",
   "execution_count": 13,
   "metadata": {},
   "outputs": [
    {
     "data": {
      "text/html": [
       "<div>\n",
       "<style scoped>\n",
       "    .dataframe tbody tr th:only-of-type {\n",
       "        vertical-align: middle;\n",
       "    }\n",
       "\n",
       "    .dataframe tbody tr th {\n",
       "        vertical-align: top;\n",
       "    }\n",
       "\n",
       "    .dataframe thead th {\n",
       "        text-align: right;\n",
       "    }\n",
       "</style>\n",
       "<table border=\"1\" class=\"dataframe\">\n",
       "  <thead>\n",
       "    <tr style=\"text-align: right;\">\n",
       "      <th></th>\n",
       "      <th>Per Acre Value</th>\n",
       "      <th>Upper Percentile Value</th>\n",
       "      <th>Spread</th>\n",
       "    </tr>\n",
       "  </thead>\n",
       "  <tbody>\n",
       "    <tr>\n",
       "      <th>0</th>\n",
       "      <td>25000.000000</td>\n",
       "      <td>25% quantile</td>\n",
       "      <td>0.000000</td>\n",
       "    </tr>\n",
       "    <tr>\n",
       "      <th>1</th>\n",
       "      <td>22000.000000</td>\n",
       "      <td>22.5% quantile</td>\n",
       "      <td>-3000.000000</td>\n",
       "    </tr>\n",
       "    <tr>\n",
       "      <th>2</th>\n",
       "      <td>19290.000000</td>\n",
       "      <td>20% quantile</td>\n",
       "      <td>-2710.000000</td>\n",
       "    </tr>\n",
       "    <tr>\n",
       "      <th>3</th>\n",
       "      <td>16500.000000</td>\n",
       "      <td>17.5% quantile</td>\n",
       "      <td>-2790.000000</td>\n",
       "    </tr>\n",
       "    <tr>\n",
       "      <th>4</th>\n",
       "      <td>14072.052844</td>\n",
       "      <td>15% quantile</td>\n",
       "      <td>-2427.947156</td>\n",
       "    </tr>\n",
       "    <tr>\n",
       "      <th>5</th>\n",
       "      <td>11500.000000</td>\n",
       "      <td>12.5% quantile</td>\n",
       "      <td>-2572.052844</td>\n",
       "    </tr>\n",
       "    <tr>\n",
       "      <th>6</th>\n",
       "      <td>9416.432524</td>\n",
       "      <td>10% quantile</td>\n",
       "      <td>-2083.567476</td>\n",
       "    </tr>\n",
       "    <tr>\n",
       "      <th>7</th>\n",
       "      <td>8000.000000</td>\n",
       "      <td>8.5% quantile</td>\n",
       "      <td>-1416.432524</td>\n",
       "    </tr>\n",
       "    <tr>\n",
       "      <th>8</th>\n",
       "      <td>5000.000000</td>\n",
       "      <td>5% quantile</td>\n",
       "      <td>-3000.000000</td>\n",
       "    </tr>\n",
       "    <tr>\n",
       "      <th>9</th>\n",
       "      <td>2981.008674</td>\n",
       "      <td>2.5% quantile</td>\n",
       "      <td>-2018.991326</td>\n",
       "    </tr>\n",
       "    <tr>\n",
       "      <th>10</th>\n",
       "      <td>1758.012679</td>\n",
       "      <td>1% quantile</td>\n",
       "      <td>-1222.995994</td>\n",
       "    </tr>\n",
       "    <tr>\n",
       "      <th>11</th>\n",
       "      <td>653.516614</td>\n",
       "      <td>0.1% quantile</td>\n",
       "      <td>-1104.496066</td>\n",
       "    </tr>\n",
       "  </tbody>\n",
       "</table>\n",
       "</div>"
      ],
      "text/plain": [
       "    Per Acre Value Upper Percentile Value       Spread\n",
       "0     25000.000000           25% quantile     0.000000\n",
       "1     22000.000000         22.5% quantile -3000.000000\n",
       "2     19290.000000           20% quantile -2710.000000\n",
       "3     16500.000000         17.5% quantile -2790.000000\n",
       "4     14072.052844           15% quantile -2427.947156\n",
       "5     11500.000000         12.5% quantile -2572.052844\n",
       "6      9416.432524           10% quantile -2083.567476\n",
       "7      8000.000000          8.5% quantile -1416.432524\n",
       "8      5000.000000            5% quantile -3000.000000\n",
       "9      2981.008674          2.5% quantile -2018.991326\n",
       "10     1758.012679            1% quantile -1222.995994\n",
       "11      653.516614          0.1% quantile -1104.496066"
      ]
     },
     "execution_count": 13,
     "metadata": {},
     "output_type": "execute_result"
    }
   ],
   "source": [
    "df_lower"
   ]
  },
  {
   "cell_type": "code",
   "execution_count": 14,
   "metadata": {},
   "outputs": [
    {
     "data": {
      "text/plain": [
       "[<matplotlib.lines.Line2D at 0x23771388430>]"
      ]
     },
     "execution_count": 14,
     "metadata": {},
     "output_type": "execute_result"
    },
    {
     "data": {
      "image/png": "[encoded data removed]",
      "text/plain": [
       "<Figure size 432x288 with 1 Axes>"
      ]
     },
     "metadata": {
      "needs_background": "light"
     },
     "output_type": "display_data"
    }
   ],
   "source": [
    "plt.plot(df_lower.index[1:],-df_lower['Spread'][1:])"
   ]
  },
  {
   "cell_type": "code",
   "execution_count": 15,
   "metadata": {},
   "outputs": [],
   "source": [
    "def remove_outlier_IQR(data,low,high):\n",
    "    Q1=data.quantile(low)\n",
    "    Q3=data.quantile(high)\n",
    "    IQR=Q3-Q1\n",
    "    df_final=data[~((data<(Q1-1.5*IQR)) | (data>(Q3+1.5*IQR)))]\n",
    "    return df_final"
   ]
  },
  {
   "cell_type": "code",
   "execution_count": 17,
   "metadata": {},
   "outputs": [
    {
     "ename": "KeyError",
     "evalue": "\"['Year'] not in index\"",
     "output_type": "error",
     "traceback": [
      "\u001b[1;31m---------------------------------------------------------------------------\u001b[0m",
      "\u001b[1;31mKeyError\u001b[0m                                  Traceback (most recent call last)",
      "\u001b[1;32m<ipython-input-17-22a79b8f521a>\u001b[0m in \u001b[0;36m<module>\u001b[1;34m\u001b[0m\n\u001b[0;32m      7\u001b[0m     \u001b[0mdt\u001b[0m\u001b[1;33m=\u001b[0m\u001b[0mdf_final\u001b[0m\u001b[1;33m\u001b[0m\u001b[1;33m\u001b[0m\u001b[0m\n\u001b[0;32m      8\u001b[0m \u001b[1;33m\u001b[0m\u001b[0m\n\u001b[1;32m----> 9\u001b[1;33m \u001b[0msns\u001b[0m\u001b[1;33m.\u001b[0m\u001b[0mboxplot\u001b[0m\u001b[1;33m(\u001b[0m\u001b[0my\u001b[0m\u001b[1;33m=\u001b[0m\u001b[1;34m'Per Acre Value'\u001b[0m\u001b[1;33m,\u001b[0m \u001b[0mx\u001b[0m\u001b[1;33m=\u001b[0m\u001b[1;34m'Year'\u001b[0m\u001b[1;33m,\u001b[0m\u001b[0mdata\u001b[0m\u001b[1;33m=\u001b[0m\u001b[0mdf_final\u001b[0m\u001b[1;33m[\u001b[0m\u001b[1;33m[\u001b[0m\u001b[1;34m'Per Acre Value'\u001b[0m\u001b[1;33m,\u001b[0m\u001b[1;34m'Year'\u001b[0m\u001b[1;33m]\u001b[0m\u001b[1;33m]\u001b[0m\u001b[1;33m)\u001b[0m\u001b[1;33m\u001b[0m\u001b[1;33m\u001b[0m\u001b[0m\n\u001b[0m\u001b[0;32m     10\u001b[0m \u001b[0mplt\u001b[0m\u001b[1;33m.\u001b[0m\u001b[0mxticks\u001b[0m\u001b[1;33m(\u001b[0m\u001b[0mrotation\u001b[0m\u001b[1;33m=\u001b[0m\u001b[1;36m90\u001b[0m\u001b[1;33m)\u001b[0m\u001b[1;33m\u001b[0m\u001b[1;33m\u001b[0m\u001b[0m\n\u001b[0;32m     11\u001b[0m \u001b[0mplt\u001b[0m\u001b[1;33m.\u001b[0m\u001b[0mylabel\u001b[0m\u001b[1;33m(\u001b[0m\u001b[1;34m'Price ($)'\u001b[0m\u001b[1;33m)\u001b[0m\u001b[1;33m\u001b[0m\u001b[1;33m\u001b[0m\u001b[0m\n",
      "\u001b[1;32m~\\anaconda3\\lib\\site-packages\\pandas\\core\\frame.py\u001b[0m in \u001b[0;36m__getitem__\u001b[1;34m(self, key)\u001b[0m\n\u001b[0;32m   3028\u001b[0m             \u001b[1;32mif\u001b[0m \u001b[0mis_iterator\u001b[0m\u001b[1;33m(\u001b[0m\u001b[0mkey\u001b[0m\u001b[1;33m)\u001b[0m\u001b[1;33m:\u001b[0m\u001b[1;33m\u001b[0m\u001b[1;33m\u001b[0m\u001b[0m\n\u001b[0;32m   3029\u001b[0m                 \u001b[0mkey\u001b[0m \u001b[1;33m=\u001b[0m \u001b[0mlist\u001b[0m\u001b[1;33m(\u001b[0m\u001b[0mkey\u001b[0m\u001b[1;33m)\u001b[0m\u001b[1;33m\u001b[0m\u001b[1;33m\u001b[0m\u001b[0m\n\u001b[1;32m-> 3030\u001b[1;33m             \u001b[0mindexer\u001b[0m \u001b[1;33m=\u001b[0m \u001b[0mself\u001b[0m\u001b[1;33m.\u001b[0m\u001b[0mloc\u001b[0m\u001b[1;33m.\u001b[0m\u001b[0m_get_listlike_indexer\u001b[0m\u001b[1;33m(\u001b[0m\u001b[0mkey\u001b[0m\u001b[1;33m,\u001b[0m \u001b[0maxis\u001b[0m\u001b[1;33m=\u001b[0m\u001b[1;36m1\u001b[0m\u001b[1;33m,\u001b[0m \u001b[0mraise_missing\u001b[0m\u001b[1;33m=\u001b[0m\u001b[1;32mTrue\u001b[0m\u001b[1;33m)\u001b[0m\u001b[1;33m[\u001b[0m\u001b[1;36m1\u001b[0m\u001b[1;33m]\u001b[0m\u001b[1;33m\u001b[0m\u001b[1;33m\u001b[0m\u001b[0m\n\u001b[0m\u001b[0;32m   3031\u001b[0m \u001b[1;33m\u001b[0m\u001b[0m\n\u001b[0;32m   3032\u001b[0m         \u001b[1;31m# take() does not accept boolean indexers\u001b[0m\u001b[1;33m\u001b[0m\u001b[1;33m\u001b[0m\u001b[1;33m\u001b[0m\u001b[0m\n",
      "\u001b[1;32m~\\anaconda3\\lib\\site-packages\\pandas\\core\\indexing.py\u001b[0m in \u001b[0;36m_get_listlike_indexer\u001b[1;34m(self, key, axis, raise_missing)\u001b[0m\n\u001b[0;32m   1264\u001b[0m             \u001b[0mkeyarr\u001b[0m\u001b[1;33m,\u001b[0m \u001b[0mindexer\u001b[0m\u001b[1;33m,\u001b[0m \u001b[0mnew_indexer\u001b[0m \u001b[1;33m=\u001b[0m \u001b[0max\u001b[0m\u001b[1;33m.\u001b[0m\u001b[0m_reindex_non_unique\u001b[0m\u001b[1;33m(\u001b[0m\u001b[0mkeyarr\u001b[0m\u001b[1;33m)\u001b[0m\u001b[1;33m\u001b[0m\u001b[1;33m\u001b[0m\u001b[0m\n\u001b[0;32m   1265\u001b[0m \u001b[1;33m\u001b[0m\u001b[0m\n\u001b[1;32m-> 1266\u001b[1;33m         \u001b[0mself\u001b[0m\u001b[1;33m.\u001b[0m\u001b[0m_validate_read_indexer\u001b[0m\u001b[1;33m(\u001b[0m\u001b[0mkeyarr\u001b[0m\u001b[1;33m,\u001b[0m \u001b[0mindexer\u001b[0m\u001b[1;33m,\u001b[0m \u001b[0maxis\u001b[0m\u001b[1;33m,\u001b[0m \u001b[0mraise_missing\u001b[0m\u001b[1;33m=\u001b[0m\u001b[0mraise_missing\u001b[0m\u001b[1;33m)\u001b[0m\u001b[1;33m\u001b[0m\u001b[1;33m\u001b[0m\u001b[0m\n\u001b[0m\u001b[0;32m   1267\u001b[0m         \u001b[1;32mreturn\u001b[0m \u001b[0mkeyarr\u001b[0m\u001b[1;33m,\u001b[0m \u001b[0mindexer\u001b[0m\u001b[1;33m\u001b[0m\u001b[1;33m\u001b[0m\u001b[0m\n\u001b[0;32m   1268\u001b[0m \u001b[1;33m\u001b[0m\u001b[0m\n",
      "\u001b[1;32m~\\anaconda3\\lib\\site-packages\\pandas\\core\\indexing.py\u001b[0m in \u001b[0;36m_validate_read_indexer\u001b[1;34m(self, key, indexer, axis, raise_missing)\u001b[0m\n\u001b[0;32m   1314\u001b[0m             \u001b[1;32mif\u001b[0m \u001b[0mraise_missing\u001b[0m\u001b[1;33m:\u001b[0m\u001b[1;33m\u001b[0m\u001b[1;33m\u001b[0m\u001b[0m\n\u001b[0;32m   1315\u001b[0m                 \u001b[0mnot_found\u001b[0m \u001b[1;33m=\u001b[0m \u001b[0mlist\u001b[0m\u001b[1;33m(\u001b[0m\u001b[0mset\u001b[0m\u001b[1;33m(\u001b[0m\u001b[0mkey\u001b[0m\u001b[1;33m)\u001b[0m \u001b[1;33m-\u001b[0m \u001b[0mset\u001b[0m\u001b[1;33m(\u001b[0m\u001b[0max\u001b[0m\u001b[1;33m)\u001b[0m\u001b[1;33m)\u001b[0m\u001b[1;33m\u001b[0m\u001b[1;33m\u001b[0m\u001b[0m\n\u001b[1;32m-> 1316\u001b[1;33m                 \u001b[1;32mraise\u001b[0m \u001b[0mKeyError\u001b[0m\u001b[1;33m(\u001b[0m\u001b[1;34mf\"{not_found} not in index\"\u001b[0m\u001b[1;33m)\u001b[0m\u001b[1;33m\u001b[0m\u001b[1;33m\u001b[0m\u001b[0m\n\u001b[0m\u001b[0;32m   1317\u001b[0m \u001b[1;33m\u001b[0m\u001b[0m\n\u001b[0;32m   1318\u001b[0m             \u001b[0mnot_found\u001b[0m \u001b[1;33m=\u001b[0m \u001b[0mkey\u001b[0m\u001b[1;33m[\u001b[0m\u001b[0mmissing_mask\u001b[0m\u001b[1;33m]\u001b[0m\u001b[1;33m\u001b[0m\u001b[1;33m\u001b[0m\u001b[0m\n",
      "\u001b[1;31mKeyError\u001b[0m: \"['Year'] not in index\""
     ]
    }
   ],
   "source": [
    "df_outlier_removed=remove_outlier_IQR(dt['Per Acre Value'],0.25,0.65)\n",
    "df_outlier_removed=pd.DataFrame(df_outlier_removed)\n",
    "ind_diff=dt.index.difference(df_outlier_removed.index)\n",
    "\n",
    "for i in range(0, len(ind_diff),1):\n",
    "    df_final=dt.drop([ind_diff[i]])\n",
    "    dt=df_final\n",
    "    \n",
    "sns.boxplot(y='Per Acre Value', x='Year',data=df_final[['Per Acre Value','Year']])\n",
    "plt.xticks(rotation=90)\n",
    "plt.ylabel('Price ($)')"
   ]
  },
  {
   "cell_type": "code",
   "execution_count": 18,
   "metadata": {},
   "outputs": [
    {
     "data": {
      "text/plain": [
       "834"
      ]
     },
     "execution_count": 18,
     "metadata": {},
     "output_type": "execute_result"
    }
   ],
   "source": [
    "len(ind_diff)"
   ]
  },
  {
   "cell_type": "code",
   "execution_count": 19,
   "metadata": {},
   "outputs": [
    {
     "data": {
      "text/html": [
       "<div>\n",
       "<style scoped>\n",
       "    .dataframe tbody tr th:only-of-type {\n",
       "        vertical-align: middle;\n",
       "    }\n",
       "\n",
       "    .dataframe tbody tr th {\n",
       "        vertical-align: top;\n",
       "    }\n",
       "\n",
       "    .dataframe thead th {\n",
       "        text-align: right;\n",
       "    }\n",
       "</style>\n",
       "<table border=\"1\" class=\"dataframe\">\n",
       "  <thead>\n",
       "    <tr style=\"text-align: right;\">\n",
       "      <th></th>\n",
       "      <th>type</th>\n",
       "      <th>date</th>\n",
       "      <th>price</th>\n",
       "      <th>area</th>\n",
       "      <th>unit</th>\n",
       "      <th>address</th>\n",
       "      <th>Per Acre Value</th>\n",
       "    </tr>\n",
       "  </thead>\n",
       "  <tbody>\n",
       "    <tr>\n",
       "      <th>0</th>\n",
       "      <td>Sold</td>\n",
       "      <td>2021-10-22</td>\n",
       "      <td>3000</td>\n",
       "      <td>0.010009</td>\n",
       "      <td>acre lot</td>\n",
       "      <td>530 Ne Ste Route, Darrington, WA 98241</td>\n",
       "      <td>3000.000000</td>\n",
       "    </tr>\n",
       "    <tr>\n",
       "      <th>1</th>\n",
       "      <td>Sold</td>\n",
       "      <td>2021-11-19</td>\n",
       "      <td>3600</td>\n",
       "      <td>0.350000</td>\n",
       "      <td>acre lot</td>\n",
       "      <td>12603 107th Street Ct, Anderson Island, WA 98303</td>\n",
       "      <td>3600.000000</td>\n",
       "    </tr>\n",
       "    <tr>\n",
       "      <th>2</th>\n",
       "      <td>Sold</td>\n",
       "      <td>2022-02-11</td>\n",
       "      <td>4500</td>\n",
       "      <td>0.121671</td>\n",
       "      <td>acre lot</td>\n",
       "      <td>SW 98th St Lot 1, Lakewood, WA 98498</td>\n",
       "      <td>4500.000000</td>\n",
       "    </tr>\n",
       "    <tr>\n",
       "      <th>3</th>\n",
       "      <td>Sold</td>\n",
       "      <td>2022-02-11</td>\n",
       "      <td>5000</td>\n",
       "      <td>0.174472</td>\n",
       "      <td>acre lot</td>\n",
       "      <td>77th E, Sumner, WA 98390</td>\n",
       "      <td>5000.000000</td>\n",
       "    </tr>\n",
       "    <tr>\n",
       "      <th>4</th>\n",
       "      <td>Sold</td>\n",
       "      <td>2021-11-17</td>\n",
       "      <td>5000</td>\n",
       "      <td>0.310000</td>\n",
       "      <td>acre lot</td>\n",
       "      <td>Bayshore Dr, Bellingham, WA 98226</td>\n",
       "      <td>5000.000000</td>\n",
       "    </tr>\n",
       "    <tr>\n",
       "      <th>...</th>\n",
       "      <td>...</td>\n",
       "      <td>...</td>\n",
       "      <td>...</td>\n",
       "      <td>...</td>\n",
       "      <td>...</td>\n",
       "      <td>...</td>\n",
       "      <td>...</td>\n",
       "    </tr>\n",
       "    <tr>\n",
       "      <th>10439</th>\n",
       "      <td>For Sale</td>\n",
       "      <td>NaT</td>\n",
       "      <td>7900000</td>\n",
       "      <td>1048.600000</td>\n",
       "      <td>acre lot</td>\n",
       "      <td>SW O Rd,_x000D_\\nRoyal City, WA 99357</td>\n",
       "      <td>7533.854663</td>\n",
       "    </tr>\n",
       "    <tr>\n",
       "      <th>10441</th>\n",
       "      <td>Pending</td>\n",
       "      <td>NaT</td>\n",
       "      <td>8500000</td>\n",
       "      <td>105.000000</td>\n",
       "      <td>acre lot</td>\n",
       "      <td>Dent Rd,_x000D_\\nPasco, WA 99301</td>\n",
       "      <td>80952.380952</td>\n",
       "    </tr>\n",
       "    <tr>\n",
       "      <th>10443</th>\n",
       "      <td>Pending</td>\n",
       "      <td>NaT</td>\n",
       "      <td>9455000</td>\n",
       "      <td>128.000000</td>\n",
       "      <td>acre lot</td>\n",
       "      <td>Nka River Rd,_x000D_\\nSequim, WA 98382</td>\n",
       "      <td>73867.187500</td>\n",
       "    </tr>\n",
       "    <tr>\n",
       "      <th>10449</th>\n",
       "      <td>For Sale</td>\n",
       "      <td>NaT</td>\n",
       "      <td>10495000</td>\n",
       "      <td>253.400000</td>\n",
       "      <td>acre lot</td>\n",
       "      <td>1000 Discovery Dr SW,_x000D_\\nIlwaco, WA 98624</td>\n",
       "      <td>41416.732439</td>\n",
       "    </tr>\n",
       "    <tr>\n",
       "      <th>10452</th>\n",
       "      <td>For Sale</td>\n",
       "      <td>NaT</td>\n",
       "      <td>11353000</td>\n",
       "      <td>162.900000</td>\n",
       "      <td>acre lot</td>\n",
       "      <td>Hamilton/Silva,_x000D_\\nMoses Lake, WA 98837</td>\n",
       "      <td>69693.063229</td>\n",
       "    </tr>\n",
       "  </tbody>\n",
       "</table>\n",
       "<p>8007 rows × 7 columns</p>\n",
       "</div>"
      ],
      "text/plain": [
       "           type       date     price         area      unit  \\\n",
       "0          Sold 2021-10-22      3000     0.010009  acre lot   \n",
       "1          Sold 2021-11-19      3600     0.350000  acre lot   \n",
       "2          Sold 2022-02-11      4500     0.121671  acre lot   \n",
       "3          Sold 2022-02-11      5000     0.174472  acre lot   \n",
       "4          Sold 2021-11-17      5000     0.310000  acre lot   \n",
       "...         ...        ...       ...          ...       ...   \n",
       "10439  For Sale        NaT   7900000  1048.600000  acre lot   \n",
       "10441   Pending        NaT   8500000   105.000000  acre lot   \n",
       "10443   Pending        NaT   9455000   128.000000  acre lot   \n",
       "10449  For Sale        NaT  10495000   253.400000  acre lot   \n",
       "10452  For Sale        NaT  11353000   162.900000  acre lot   \n",
       "\n",
       "                                                address  Per Acre Value  \n",
       "0                530 Ne Ste Route, Darrington, WA 98241     3000.000000  \n",
       "1      12603 107th Street Ct, Anderson Island, WA 98303     3600.000000  \n",
       "2                  SW 98th St Lot 1, Lakewood, WA 98498     4500.000000  \n",
       "3                              77th E, Sumner, WA 98390     5000.000000  \n",
       "4                     Bayshore Dr, Bellingham, WA 98226     5000.000000  \n",
       "...                                                 ...             ...  \n",
       "10439             SW O Rd,_x000D_\\nRoyal City, WA 99357     7533.854663  \n",
       "10441                  Dent Rd,_x000D_\\nPasco, WA 99301    80952.380952  \n",
       "10443            Nka River Rd,_x000D_\\nSequim, WA 98382    73867.187500  \n",
       "10449    1000 Discovery Dr SW,_x000D_\\nIlwaco, WA 98624    41416.732439  \n",
       "10452      Hamilton/Silva,_x000D_\\nMoses Lake, WA 98837    69693.063229  \n",
       "\n",
       "[8007 rows x 7 columns]"
      ]
     },
     "execution_count": 19,
     "metadata": {},
     "output_type": "execute_result"
    }
   ],
   "source": [
    "df_final"
   ]
  },
  {
   "cell_type": "code",
   "execution_count": 20,
   "metadata": {},
   "outputs": [
    {
     "name": "stdout",
     "output_type": "stream",
     "text": [
      "          type       date    price    area      unit  \\\n",
      "333       Sold 2002-03-04    32000   18.14  acre lot   \n",
      "967       Sold 2021-12-17    64900   19.90  acre lot   \n",
      "1005      Sold 2001-10-08    65000   20.31  acre lot   \n",
      "1047      Sold 2021-10-15    67000    5.19  acre lot   \n",
      "1170      Sold 2022-03-23    73000    5.01  acre lot   \n",
      "1474      Sold 2021-11-23    87000   21.31  acre lot   \n",
      "1502      Sold 2021-12-29    89900    1.63  acre lot   \n",
      "2504      Sold 2022-03-18   149000    4.49  acre lot   \n",
      "2728      Sold 2021-12-13   160875    2.41  acre lot   \n",
      "2733      Sold 2021-10-20   162500    1.22  acre lot   \n",
      "3439      Sold 2022-03-16   220000    2.29  acre lot   \n",
      "3662      Sold 2021-12-30   250000   15.13  acre lot   \n",
      "3796      Sold 2022-01-21   275000    2.87  acre lot   \n",
      "4752      Sold 2022-03-18   730000   22.00  acre lot   \n",
      "5007      Sold 2021-12-17  1807000   19.15  acre lot   \n",
      "5009      Sold 2021-09-30  1825000   37.16  acre lot   \n",
      "6451  For Sale        NaT    99950    7.85  acre lot   \n",
      "7258  For Sale        NaT   150000   40.63  acre lot   \n",
      "7294  For Sale        NaT   150000   40.63  acre lot   \n",
      "7310   Pending        NaT   150000   40.63  acre lot   \n",
      "7799  For Sale        NaT   195000    5.88  acre lot   \n",
      "8042  For Sale        NaT   215000   10.02  acre lot   \n",
      "8123  For Sale        NaT   225000    1.57  acre lot   \n",
      "8219  For Sale        NaT   235000    3.14  acre lot   \n",
      "8499   Pending        NaT   265000   80.00  acre lot   \n",
      "8545  For Sale        NaT   275000    2.23  acre lot   \n",
      "8590  For Sale        NaT   275000    2.23  acre lot   \n",
      "8812   Pending        NaT   300000    9.05  acre lot   \n",
      "8935  For Sale        NaT   329500    6.18  acre lot   \n",
      "8978  For Sale        NaT   345900   34.61  acre lot   \n",
      "9198  For Sale        NaT   399950    3.00  acre lot   \n",
      "9271   Pending        NaT   425000    5.02  acre lot   \n",
      "9428  For Sale        NaT   495000    9.69  acre lot   \n",
      "9614  For Sale        NaT   599900  319.96  acre lot   \n",
      "9689  For Sale        NaT   650000   25.66  acre lot   \n",
      "9921  For Sale        NaT   890000   89.02  acre lot   \n",
      "\n",
      "                                                address  Per Acre Value  \n",
      "333                    Fish Lk # Area, Cheney, WA 99004     1764.057332  \n",
      "967         Tbd S Ward Gap Rd Lot 11, Prosser, WA 99350     3261.306533  \n",
      "1005      1 Hidden Acres Dr Lot 1, Ellensburg, WA 98926     3200.393895  \n",
      "1047                9993 Mina Smith Rd, Forks, WA 98331    12909.441233  \n",
      "1170            192 Chukkar Rd Lot 2, Pullman, WA 99163    14570.858283  \n",
      "1474               Nkn Alpen View Ln, Newport, WA 99156     4082.590333  \n",
      "1502         Nka W Prairie View Rd, Fairfield, WA 99012    55153.374233  \n",
      "2504               Woodhouse Loop, Ellensburg, WA 98926    33184.855234  \n",
      "2728          147009 W Hoisington Rd, Prosser, WA 99350    66753.112033  \n",
      "2733                 13 Larkspur Dr, Winthrop, WA 98862   133196.721311  \n",
      "3439         563 Lower Elwha Rd, Port Angeles, WA 98363    96069.868996  \n",
      "3662           3754 Old Rt St # 105, Grayland, WA 98547    16523.463318  \n",
      "3796                Nna Lotzgesell Rd, Sequim, WA 98382    95818.815331  \n",
      "4752               S Washington St, Kennewick, WA 99336    33181.818182  \n",
      "5007                1157 12th Ave, Fox Island, WA 98333    94360.313316  \n",
      "5009             Indian Hill Rd, White Salmon, WA 98672    49111.948332  \n",
      "6451  6 Humptulips Valley Ls County Road Ls S 660 Rd...    12732.484076  \n",
      "7258         Road A Parcel C,_x000D_\\nEphrata, WA 98823     3691.853310  \n",
      "7294                  Road A,_x000D_\\nEphrata, WA 98823     3691.853310  \n",
      "7310         Road A Parcel B,_x000D_\\nEphrata, WA 98823     3691.853310  \n",
      "7799        Omak Lake Rd Lot 13,_x000D_\\nOmak, WA 98841    33163.265306  \n",
      "8042        9933 W Trails Rd,_x000D_\\nSpokane, WA 99224    21457.085828  \n",
      "8123  Maple Grove Rd/Yakima Valley Hwy,_x000D_\\nSunn...   143312.101911  \n",
      "8219  111110970 N Of 20510 Sandridge,_x000D_\\nLong B...    74840.764331  \n",
      "8499        0 SR 97 Lot 3,_x000D_\\nGoldendale, WA 98620     3312.500000  \n",
      "8545           Risley Rd Lot B,_x000D_\\nKelso, WA 98626   123318.385650  \n",
      "8590         0 Risley Rd Lot B,_x000D_\\nKelso, WA 98626   123318.385650  \n",
      "8812  212 Alger Ccc Rd Lot 3,_x000D_\\nSedro Woolley,...    33149.171271  \n",
      "8935             NE 316 St,_x000D_\\nLa Center, WA 98629    53317.152104  \n",
      "8978  455 Bald Eagle Dr Lot 25,_x000D_\\nNewport, WA ...     9994.221323  \n",
      "9198  14405 399th Whiteman Rd,_x000D_\\nGold Bar, WA ...   133316.666667  \n",
      "9271     127 Wyman Rd Lot 1,_x000D_\\nWoodland, WA 98674    84661.354582  \n",
      "9428      150 Xx 115th Ave SW,_x000D_\\nVashon, WA 98070    51083.591331  \n",
      "9614             Jim Creek Rd,_x000D_\\nDayton, WA 99328     1874.921865  \n",
      "9689         Market St NE,_x000D_\\nMoses Lake, WA 98837    25331.254871  \n",
      "9921             Nka Kent Dr,_x000D_\\nEltopia, WA 99330     9997.753314  \n"
     ]
    }
   ],
   "source": [
    "print(df_final[df_final['Per Acre Value'].astype(str).str.contains('331')])"
   ]
  },
  {
   "cell_type": "code",
   "execution_count": 21,
   "metadata": {},
   "outputs": [
    {
     "data": {
      "text/plain": [
       "8007"
      ]
     },
     "execution_count": 21,
     "metadata": {},
     "output_type": "execute_result"
    }
   ],
   "source": [
    "len(dt)"
   ]
  },
  {
   "cell_type": "markdown",
   "metadata": {},
   "source": [
    "# Standard IQR Process"
   ]
  },
  {
   "cell_type": "code",
   "execution_count": 23,
   "metadata": {},
   "outputs": [],
   "source": [
    "df=pd.read_excel('wa comps.xlsx')"
   ]
  },
  {
   "cell_type": "code",
   "execution_count": 24,
   "metadata": {},
   "outputs": [],
   "source": [
    "def remove_sign(x,sign):\n",
    "    if type(x) is str:\n",
    "        x = float(x.replace(sign,'').replace(',',''))\n",
    "    return x"
   ]
  },
  {
   "cell_type": "code",
   "execution_count": 25,
   "metadata": {},
   "outputs": [
    {
     "ename": "KeyError",
     "evalue": "\"['Year'] not in index\"",
     "output_type": "error",
     "traceback": [
      "\u001b[1;31m---------------------------------------------------------------------------\u001b[0m",
      "\u001b[1;31mKeyError\u001b[0m                                  Traceback (most recent call last)",
      "\u001b[1;32m<ipython-input-25-2b20d61da62c>\u001b[0m in \u001b[0;36m<module>\u001b[1;34m\u001b[0m\n\u001b[0;32m      3\u001b[0m \u001b[1;33m\u001b[0m\u001b[0m\n\u001b[0;32m      4\u001b[0m \u001b[0mdf\u001b[0m\u001b[1;33m[\u001b[0m\u001b[1;34m'Per Acre Value'\u001b[0m\u001b[1;33m]\u001b[0m \u001b[1;33m=\u001b[0m \u001b[0mdf\u001b[0m\u001b[1;33m[\u001b[0m\u001b[1;34m'Per Acre Value'\u001b[0m\u001b[1;33m]\u001b[0m\u001b[1;33m.\u001b[0m\u001b[0mapply\u001b[0m\u001b[1;33m(\u001b[0m\u001b[0mremove_sign\u001b[0m\u001b[1;33m,\u001b[0m\u001b[0msign\u001b[0m\u001b[1;33m=\u001b[0m\u001b[1;34m'$'\u001b[0m\u001b[1;33m)\u001b[0m\u001b[1;33m\u001b[0m\u001b[1;33m\u001b[0m\u001b[0m\n\u001b[1;32m----> 5\u001b[1;33m \u001b[0msns\u001b[0m\u001b[1;33m.\u001b[0m\u001b[0mboxplot\u001b[0m\u001b[1;33m(\u001b[0m\u001b[0my\u001b[0m\u001b[1;33m=\u001b[0m\u001b[1;34m'Per Acre Value'\u001b[0m\u001b[1;33m,\u001b[0m \u001b[0mx\u001b[0m\u001b[1;33m=\u001b[0m\u001b[1;34m'Year'\u001b[0m\u001b[1;33m,\u001b[0m\u001b[0mdata\u001b[0m\u001b[1;33m=\u001b[0m\u001b[0mdf\u001b[0m\u001b[1;33m[\u001b[0m\u001b[1;33m[\u001b[0m\u001b[1;34m'Per Acre Value'\u001b[0m\u001b[1;33m,\u001b[0m\u001b[1;34m'Year'\u001b[0m\u001b[1;33m]\u001b[0m\u001b[1;33m]\u001b[0m\u001b[1;33m)\u001b[0m\u001b[1;33m\u001b[0m\u001b[1;33m\u001b[0m\u001b[0m\n\u001b[0m\u001b[0;32m      6\u001b[0m \u001b[0mplt\u001b[0m\u001b[1;33m.\u001b[0m\u001b[0mxticks\u001b[0m\u001b[1;33m(\u001b[0m\u001b[0mrotation\u001b[0m\u001b[1;33m=\u001b[0m\u001b[1;36m90\u001b[0m\u001b[1;33m)\u001b[0m\u001b[1;33m\u001b[0m\u001b[1;33m\u001b[0m\u001b[0m\n\u001b[0;32m      7\u001b[0m \u001b[0mplt\u001b[0m\u001b[1;33m.\u001b[0m\u001b[0mylabel\u001b[0m\u001b[1;33m(\u001b[0m\u001b[1;34m'Price ($)'\u001b[0m\u001b[1;33m)\u001b[0m\u001b[1;33m\u001b[0m\u001b[1;33m\u001b[0m\u001b[0m\n",
      "\u001b[1;32m~\\anaconda3\\lib\\site-packages\\pandas\\core\\frame.py\u001b[0m in \u001b[0;36m__getitem__\u001b[1;34m(self, key)\u001b[0m\n\u001b[0;32m   3028\u001b[0m             \u001b[1;32mif\u001b[0m \u001b[0mis_iterator\u001b[0m\u001b[1;33m(\u001b[0m\u001b[0mkey\u001b[0m\u001b[1;33m)\u001b[0m\u001b[1;33m:\u001b[0m\u001b[1;33m\u001b[0m\u001b[1;33m\u001b[0m\u001b[0m\n\u001b[0;32m   3029\u001b[0m                 \u001b[0mkey\u001b[0m \u001b[1;33m=\u001b[0m \u001b[0mlist\u001b[0m\u001b[1;33m(\u001b[0m\u001b[0mkey\u001b[0m\u001b[1;33m)\u001b[0m\u001b[1;33m\u001b[0m\u001b[1;33m\u001b[0m\u001b[0m\n\u001b[1;32m-> 3030\u001b[1;33m             \u001b[0mindexer\u001b[0m \u001b[1;33m=\u001b[0m \u001b[0mself\u001b[0m\u001b[1;33m.\u001b[0m\u001b[0mloc\u001b[0m\u001b[1;33m.\u001b[0m\u001b[0m_get_listlike_indexer\u001b[0m\u001b[1;33m(\u001b[0m\u001b[0mkey\u001b[0m\u001b[1;33m,\u001b[0m \u001b[0maxis\u001b[0m\u001b[1;33m=\u001b[0m\u001b[1;36m1\u001b[0m\u001b[1;33m,\u001b[0m \u001b[0mraise_missing\u001b[0m\u001b[1;33m=\u001b[0m\u001b[1;32mTrue\u001b[0m\u001b[1;33m)\u001b[0m\u001b[1;33m[\u001b[0m\u001b[1;36m1\u001b[0m\u001b[1;33m]\u001b[0m\u001b[1;33m\u001b[0m\u001b[1;33m\u001b[0m\u001b[0m\n\u001b[0m\u001b[0;32m   3031\u001b[0m \u001b[1;33m\u001b[0m\u001b[0m\n\u001b[0;32m   3032\u001b[0m         \u001b[1;31m# take() does not accept boolean indexers\u001b[0m\u001b[1;33m\u001b[0m\u001b[1;33m\u001b[0m\u001b[1;33m\u001b[0m\u001b[0m\n",
      "\u001b[1;32m~\\anaconda3\\lib\\site-packages\\pandas\\core\\indexing.py\u001b[0m in \u001b[0;36m_get_listlike_indexer\u001b[1;34m(self, key, axis, raise_missing)\u001b[0m\n\u001b[0;32m   1264\u001b[0m             \u001b[0mkeyarr\u001b[0m\u001b[1;33m,\u001b[0m \u001b[0mindexer\u001b[0m\u001b[1;33m,\u001b[0m \u001b[0mnew_indexer\u001b[0m \u001b[1;33m=\u001b[0m \u001b[0max\u001b[0m\u001b[1;33m.\u001b[0m\u001b[0m_reindex_non_unique\u001b[0m\u001b[1;33m(\u001b[0m\u001b[0mkeyarr\u001b[0m\u001b[1;33m)\u001b[0m\u001b[1;33m\u001b[0m\u001b[1;33m\u001b[0m\u001b[0m\n\u001b[0;32m   1265\u001b[0m \u001b[1;33m\u001b[0m\u001b[0m\n\u001b[1;32m-> 1266\u001b[1;33m         \u001b[0mself\u001b[0m\u001b[1;33m.\u001b[0m\u001b[0m_validate_read_indexer\u001b[0m\u001b[1;33m(\u001b[0m\u001b[0mkeyarr\u001b[0m\u001b[1;33m,\u001b[0m \u001b[0mindexer\u001b[0m\u001b[1;33m,\u001b[0m \u001b[0maxis\u001b[0m\u001b[1;33m,\u001b[0m \u001b[0mraise_missing\u001b[0m\u001b[1;33m=\u001b[0m\u001b[0mraise_missing\u001b[0m\u001b[1;33m)\u001b[0m\u001b[1;33m\u001b[0m\u001b[1;33m\u001b[0m\u001b[0m\n\u001b[0m\u001b[0;32m   1267\u001b[0m         \u001b[1;32mreturn\u001b[0m \u001b[0mkeyarr\u001b[0m\u001b[1;33m,\u001b[0m \u001b[0mindexer\u001b[0m\u001b[1;33m\u001b[0m\u001b[1;33m\u001b[0m\u001b[0m\n\u001b[0;32m   1268\u001b[0m \u001b[1;33m\u001b[0m\u001b[0m\n",
      "\u001b[1;32m~\\anaconda3\\lib\\site-packages\\pandas\\core\\indexing.py\u001b[0m in \u001b[0;36m_validate_read_indexer\u001b[1;34m(self, key, indexer, axis, raise_missing)\u001b[0m\n\u001b[0;32m   1314\u001b[0m             \u001b[1;32mif\u001b[0m \u001b[0mraise_missing\u001b[0m\u001b[1;33m:\u001b[0m\u001b[1;33m\u001b[0m\u001b[1;33m\u001b[0m\u001b[0m\n\u001b[0;32m   1315\u001b[0m                 \u001b[0mnot_found\u001b[0m \u001b[1;33m=\u001b[0m \u001b[0mlist\u001b[0m\u001b[1;33m(\u001b[0m\u001b[0mset\u001b[0m\u001b[1;33m(\u001b[0m\u001b[0mkey\u001b[0m\u001b[1;33m)\u001b[0m \u001b[1;33m-\u001b[0m \u001b[0mset\u001b[0m\u001b[1;33m(\u001b[0m\u001b[0max\u001b[0m\u001b[1;33m)\u001b[0m\u001b[1;33m)\u001b[0m\u001b[1;33m\u001b[0m\u001b[1;33m\u001b[0m\u001b[0m\n\u001b[1;32m-> 1316\u001b[1;33m                 \u001b[1;32mraise\u001b[0m \u001b[0mKeyError\u001b[0m\u001b[1;33m(\u001b[0m\u001b[1;34mf\"{not_found} not in index\"\u001b[0m\u001b[1;33m)\u001b[0m\u001b[1;33m\u001b[0m\u001b[1;33m\u001b[0m\u001b[0m\n\u001b[0m\u001b[0;32m   1317\u001b[0m \u001b[1;33m\u001b[0m\u001b[0m\n\u001b[0;32m   1318\u001b[0m             \u001b[0mnot_found\u001b[0m \u001b[1;33m=\u001b[0m \u001b[0mkey\u001b[0m\u001b[1;33m[\u001b[0m\u001b[0mmissing_mask\u001b[0m\u001b[1;33m]\u001b[0m\u001b[1;33m\u001b[0m\u001b[1;33m\u001b[0m\u001b[0m\n",
      "\u001b[1;31mKeyError\u001b[0m: \"['Year'] not in index\""
     ]
    }
   ],
   "source": [
    "#df=df[['Per Acre Value','Year']]\n",
    "df=pd.DataFrame(df)\n",
    "\n",
    "df['Per Acre Value'] = df['Per Acre Value'].apply(remove_sign,sign='$')\n",
    "sns.boxplot(y='Per Acre Value', x='Year',data=df[['Per Acre Value','Year']])\n",
    "plt.xticks(rotation=90)\n",
    "plt.ylabel('Price ($)')"
   ]
  },
  {
   "cell_type": "code",
   "execution_count": 26,
   "metadata": {},
   "outputs": [],
   "source": [
    "def remove_outlier_IQR(df):\n",
    "    Q1=df.quantile(0.25)\n",
    "    Q3=df.quantile(0.75)\n",
    "    IQR=Q3-Q1\n",
    "    df_final=df[~((df<(Q1-1.5*IQR)) | (df>(Q3+1.5*IQR)))]\n",
    "    return df_final"
   ]
  },
  {
   "cell_type": "code",
   "execution_count": 27,
   "metadata": {},
   "outputs": [
    {
     "ename": "KeyError",
     "evalue": "\"['Year'] not in index\"",
     "output_type": "error",
     "traceback": [
      "\u001b[1;31m---------------------------------------------------------------------------\u001b[0m",
      "\u001b[1;31mKeyError\u001b[0m                                  Traceback (most recent call last)",
      "\u001b[1;32m<ipython-input-27-2a8fbc11d794>\u001b[0m in \u001b[0;36m<module>\u001b[1;34m\u001b[0m\n\u001b[0;32m      7\u001b[0m     \u001b[0mdf\u001b[0m\u001b[1;33m=\u001b[0m\u001b[0mdf_final\u001b[0m\u001b[1;33m\u001b[0m\u001b[1;33m\u001b[0m\u001b[0m\n\u001b[0;32m      8\u001b[0m \u001b[1;33m\u001b[0m\u001b[0m\n\u001b[1;32m----> 9\u001b[1;33m \u001b[0msns\u001b[0m\u001b[1;33m.\u001b[0m\u001b[0mboxplot\u001b[0m\u001b[1;33m(\u001b[0m\u001b[0my\u001b[0m\u001b[1;33m=\u001b[0m\u001b[1;34m'Per Acre Value'\u001b[0m\u001b[1;33m,\u001b[0m \u001b[0mx\u001b[0m\u001b[1;33m=\u001b[0m\u001b[1;34m'Year'\u001b[0m\u001b[1;33m,\u001b[0m\u001b[0mdata\u001b[0m\u001b[1;33m=\u001b[0m\u001b[0mdf_final\u001b[0m\u001b[1;33m[\u001b[0m\u001b[1;33m[\u001b[0m\u001b[1;34m'Per Acre Value'\u001b[0m\u001b[1;33m,\u001b[0m\u001b[1;34m'Year'\u001b[0m\u001b[1;33m]\u001b[0m\u001b[1;33m]\u001b[0m\u001b[1;33m)\u001b[0m\u001b[1;33m\u001b[0m\u001b[1;33m\u001b[0m\u001b[0m\n\u001b[0m\u001b[0;32m     10\u001b[0m \u001b[0mplt\u001b[0m\u001b[1;33m.\u001b[0m\u001b[0mxticks\u001b[0m\u001b[1;33m(\u001b[0m\u001b[0mrotation\u001b[0m\u001b[1;33m=\u001b[0m\u001b[1;36m90\u001b[0m\u001b[1;33m)\u001b[0m\u001b[1;33m\u001b[0m\u001b[1;33m\u001b[0m\u001b[0m\n\u001b[0;32m     11\u001b[0m \u001b[0mplt\u001b[0m\u001b[1;33m.\u001b[0m\u001b[0mylabel\u001b[0m\u001b[1;33m(\u001b[0m\u001b[1;34m'Price ($)'\u001b[0m\u001b[1;33m)\u001b[0m\u001b[1;33m\u001b[0m\u001b[1;33m\u001b[0m\u001b[0m\n",
      "\u001b[1;32m~\\anaconda3\\lib\\site-packages\\pandas\\core\\frame.py\u001b[0m in \u001b[0;36m__getitem__\u001b[1;34m(self, key)\u001b[0m\n\u001b[0;32m   3028\u001b[0m             \u001b[1;32mif\u001b[0m \u001b[0mis_iterator\u001b[0m\u001b[1;33m(\u001b[0m\u001b[0mkey\u001b[0m\u001b[1;33m)\u001b[0m\u001b[1;33m:\u001b[0m\u001b[1;33m\u001b[0m\u001b[1;33m\u001b[0m\u001b[0m\n\u001b[0;32m   3029\u001b[0m                 \u001b[0mkey\u001b[0m \u001b[1;33m=\u001b[0m \u001b[0mlist\u001b[0m\u001b[1;33m(\u001b[0m\u001b[0mkey\u001b[0m\u001b[1;33m)\u001b[0m\u001b[1;33m\u001b[0m\u001b[1;33m\u001b[0m\u001b[0m\n\u001b[1;32m-> 3030\u001b[1;33m             \u001b[0mindexer\u001b[0m \u001b[1;33m=\u001b[0m \u001b[0mself\u001b[0m\u001b[1;33m.\u001b[0m\u001b[0mloc\u001b[0m\u001b[1;33m.\u001b[0m\u001b[0m_get_listlike_indexer\u001b[0m\u001b[1;33m(\u001b[0m\u001b[0mkey\u001b[0m\u001b[1;33m,\u001b[0m \u001b[0maxis\u001b[0m\u001b[1;33m=\u001b[0m\u001b[1;36m1\u001b[0m\u001b[1;33m,\u001b[0m \u001b[0mraise_missing\u001b[0m\u001b[1;33m=\u001b[0m\u001b[1;32mTrue\u001b[0m\u001b[1;33m)\u001b[0m\u001b[1;33m[\u001b[0m\u001b[1;36m1\u001b[0m\u001b[1;33m]\u001b[0m\u001b[1;33m\u001b[0m\u001b[1;33m\u001b[0m\u001b[0m\n\u001b[0m\u001b[0;32m   3031\u001b[0m \u001b[1;33m\u001b[0m\u001b[0m\n\u001b[0;32m   3032\u001b[0m         \u001b[1;31m# take() does not accept boolean indexers\u001b[0m\u001b[1;33m\u001b[0m\u001b[1;33m\u001b[0m\u001b[1;33m\u001b[0m\u001b[0m\n",
      "\u001b[1;32m~\\anaconda3\\lib\\site-packages\\pandas\\core\\indexing.py\u001b[0m in \u001b[0;36m_get_listlike_indexer\u001b[1;34m(self, key, axis, raise_missing)\u001b[0m\n\u001b[0;32m   1264\u001b[0m             \u001b[0mkeyarr\u001b[0m\u001b[1;33m,\u001b[0m \u001b[0mindexer\u001b[0m\u001b[1;33m,\u001b[0m \u001b[0mnew_indexer\u001b[0m \u001b[1;33m=\u001b[0m \u001b[0max\u001b[0m\u001b[1;33m.\u001b[0m\u001b[0m_reindex_non_unique\u001b[0m\u001b[1;33m(\u001b[0m\u001b[0mkeyarr\u001b[0m\u001b[1;33m)\u001b[0m\u001b[1;33m\u001b[0m\u001b[1;33m\u001b[0m\u001b[0m\n\u001b[0;32m   1265\u001b[0m \u001b[1;33m\u001b[0m\u001b[0m\n\u001b[1;32m-> 1266\u001b[1;33m         \u001b[0mself\u001b[0m\u001b[1;33m.\u001b[0m\u001b[0m_validate_read_indexer\u001b[0m\u001b[1;33m(\u001b[0m\u001b[0mkeyarr\u001b[0m\u001b[1;33m,\u001b[0m \u001b[0mindexer\u001b[0m\u001b[1;33m,\u001b[0m \u001b[0maxis\u001b[0m\u001b[1;33m,\u001b[0m \u001b[0mraise_missing\u001b[0m\u001b[1;33m=\u001b[0m\u001b[0mraise_missing\u001b[0m\u001b[1;33m)\u001b[0m\u001b[1;33m\u001b[0m\u001b[1;33m\u001b[0m\u001b[0m\n\u001b[0m\u001b[0;32m   1267\u001b[0m         \u001b[1;32mreturn\u001b[0m \u001b[0mkeyarr\u001b[0m\u001b[1;33m,\u001b[0m \u001b[0mindexer\u001b[0m\u001b[1;33m\u001b[0m\u001b[1;33m\u001b[0m\u001b[0m\n\u001b[0;32m   1268\u001b[0m \u001b[1;33m\u001b[0m\u001b[0m\n",
      "\u001b[1;32m~\\anaconda3\\lib\\site-packages\\pandas\\core\\indexing.py\u001b[0m in \u001b[0;36m_validate_read_indexer\u001b[1;34m(self, key, indexer, axis, raise_missing)\u001b[0m\n\u001b[0;32m   1314\u001b[0m             \u001b[1;32mif\u001b[0m \u001b[0mraise_missing\u001b[0m\u001b[1;33m:\u001b[0m\u001b[1;33m\u001b[0m\u001b[1;33m\u001b[0m\u001b[0m\n\u001b[0;32m   1315\u001b[0m                 \u001b[0mnot_found\u001b[0m \u001b[1;33m=\u001b[0m \u001b[0mlist\u001b[0m\u001b[1;33m(\u001b[0m\u001b[0mset\u001b[0m\u001b[1;33m(\u001b[0m\u001b[0mkey\u001b[0m\u001b[1;33m)\u001b[0m \u001b[1;33m-\u001b[0m \u001b[0mset\u001b[0m\u001b[1;33m(\u001b[0m\u001b[0max\u001b[0m\u001b[1;33m)\u001b[0m\u001b[1;33m)\u001b[0m\u001b[1;33m\u001b[0m\u001b[1;33m\u001b[0m\u001b[0m\n\u001b[1;32m-> 1316\u001b[1;33m                 \u001b[1;32mraise\u001b[0m \u001b[0mKeyError\u001b[0m\u001b[1;33m(\u001b[0m\u001b[1;34mf\"{not_found} not in index\"\u001b[0m\u001b[1;33m)\u001b[0m\u001b[1;33m\u001b[0m\u001b[1;33m\u001b[0m\u001b[0m\n\u001b[0m\u001b[0;32m   1317\u001b[0m \u001b[1;33m\u001b[0m\u001b[0m\n\u001b[0;32m   1318\u001b[0m             \u001b[0mnot_found\u001b[0m \u001b[1;33m=\u001b[0m \u001b[0mkey\u001b[0m\u001b[1;33m[\u001b[0m\u001b[0mmissing_mask\u001b[0m\u001b[1;33m]\u001b[0m\u001b[1;33m\u001b[0m\u001b[1;33m\u001b[0m\u001b[0m\n",
      "\u001b[1;31mKeyError\u001b[0m: \"['Year'] not in index\""
     ]
    }
   ],
   "source": [
    "df_outlier_removed=remove_outlier_IQR(df['Per Acre Value'])\n",
    "df_outlier_removed=pd.DataFrame(df_outlier_removed)\n",
    "ind_diff=df.index.difference(df_outlier_removed.index)\n",
    "\n",
    "for i in range(0, len(ind_diff),1):\n",
    "    df_final=df.drop([ind_diff[i]])\n",
    "    df=df_final\n",
    "    \n",
    "sns.boxplot(y='Per Acre Value', x='Year',data=df_final[['Per Acre Value','Year']])\n",
    "plt.xticks(rotation=90)\n",
    "plt.ylabel('Price ($)')"
   ]
  },
  {
   "cell_type": "code",
   "execution_count": 28,
   "metadata": {},
   "outputs": [
    {
     "data": {
      "text/plain": [
       "994"
      ]
     },
     "execution_count": 28,
     "metadata": {},
     "output_type": "execute_result"
    }
   ],
   "source": [
    "len(ind_diff)"
   ]
  },
  {
   "cell_type": "code",
   "execution_count": 29,
   "metadata": {},
   "outputs": [
    {
     "data": {
      "text/html": [
       "<div>\n",
       "<style scoped>\n",
       "    .dataframe tbody tr th:only-of-type {\n",
       "        vertical-align: middle;\n",
       "    }\n",
       "\n",
       "    .dataframe tbody tr th {\n",
       "        vertical-align: top;\n",
       "    }\n",
       "\n",
       "    .dataframe thead th {\n",
       "        text-align: right;\n",
       "    }\n",
       "</style>\n",
       "<table border=\"1\" class=\"dataframe\">\n",
       "  <thead>\n",
       "    <tr style=\"text-align: right;\">\n",
       "      <th></th>\n",
       "      <th>type</th>\n",
       "      <th>date</th>\n",
       "      <th>price</th>\n",
       "      <th>area</th>\n",
       "      <th>unit</th>\n",
       "      <th>address</th>\n",
       "      <th>Per Acre Value</th>\n",
       "    </tr>\n",
       "  </thead>\n",
       "  <tbody>\n",
       "    <tr>\n",
       "      <th>0</th>\n",
       "      <td>Sold</td>\n",
       "      <td>2021-10-22</td>\n",
       "      <td>3000</td>\n",
       "      <td>0.010009</td>\n",
       "      <td>acre lot</td>\n",
       "      <td>530 Ne Ste Route, Darrington, WA 98241</td>\n",
       "      <td>3000.000000</td>\n",
       "    </tr>\n",
       "    <tr>\n",
       "      <th>1</th>\n",
       "      <td>Sold</td>\n",
       "      <td>2021-11-19</td>\n",
       "      <td>3600</td>\n",
       "      <td>0.350000</td>\n",
       "      <td>acre lot</td>\n",
       "      <td>12603 107th Street Ct, Anderson Island, WA 98303</td>\n",
       "      <td>3600.000000</td>\n",
       "    </tr>\n",
       "    <tr>\n",
       "      <th>2</th>\n",
       "      <td>Sold</td>\n",
       "      <td>2022-02-11</td>\n",
       "      <td>4500</td>\n",
       "      <td>0.121671</td>\n",
       "      <td>acre lot</td>\n",
       "      <td>SW 98th St Lot 1, Lakewood, WA 98498</td>\n",
       "      <td>4500.000000</td>\n",
       "    </tr>\n",
       "    <tr>\n",
       "      <th>3</th>\n",
       "      <td>Sold</td>\n",
       "      <td>2022-02-11</td>\n",
       "      <td>5000</td>\n",
       "      <td>0.174472</td>\n",
       "      <td>acre lot</td>\n",
       "      <td>77th E, Sumner, WA 98390</td>\n",
       "      <td>5000.000000</td>\n",
       "    </tr>\n",
       "    <tr>\n",
       "      <th>4</th>\n",
       "      <td>Sold</td>\n",
       "      <td>2021-11-17</td>\n",
       "      <td>5000</td>\n",
       "      <td>0.310000</td>\n",
       "      <td>acre lot</td>\n",
       "      <td>Bayshore Dr, Bellingham, WA 98226</td>\n",
       "      <td>5000.000000</td>\n",
       "    </tr>\n",
       "    <tr>\n",
       "      <th>...</th>\n",
       "      <td>...</td>\n",
       "      <td>...</td>\n",
       "      <td>...</td>\n",
       "      <td>...</td>\n",
       "      <td>...</td>\n",
       "      <td>...</td>\n",
       "      <td>...</td>\n",
       "    </tr>\n",
       "    <tr>\n",
       "      <th>10441</th>\n",
       "      <td>Pending</td>\n",
       "      <td>NaT</td>\n",
       "      <td>8500000</td>\n",
       "      <td>105.000000</td>\n",
       "      <td>acre lot</td>\n",
       "      <td>Dent Rd,_x000D_\\nPasco, WA 99301</td>\n",
       "      <td>80952.380952</td>\n",
       "    </tr>\n",
       "    <tr>\n",
       "      <th>10443</th>\n",
       "      <td>Pending</td>\n",
       "      <td>NaT</td>\n",
       "      <td>9455000</td>\n",
       "      <td>128.000000</td>\n",
       "      <td>acre lot</td>\n",
       "      <td>Nka River Rd,_x000D_\\nSequim, WA 98382</td>\n",
       "      <td>73867.187500</td>\n",
       "    </tr>\n",
       "    <tr>\n",
       "      <th>10449</th>\n",
       "      <td>For Sale</td>\n",
       "      <td>NaT</td>\n",
       "      <td>10495000</td>\n",
       "      <td>253.400000</td>\n",
       "      <td>acre lot</td>\n",
       "      <td>1000 Discovery Dr SW,_x000D_\\nIlwaco, WA 98624</td>\n",
       "      <td>41416.732439</td>\n",
       "    </tr>\n",
       "    <tr>\n",
       "      <th>10451</th>\n",
       "      <td>Pending</td>\n",
       "      <td>NaT</td>\n",
       "      <td>11000000</td>\n",
       "      <td>36.000000</td>\n",
       "      <td>acre lot</td>\n",
       "      <td>18712 SE 1st St,_x000D_\\nVancouver, WA 98684</td>\n",
       "      <td>305555.555556</td>\n",
       "    </tr>\n",
       "    <tr>\n",
       "      <th>10452</th>\n",
       "      <td>For Sale</td>\n",
       "      <td>NaT</td>\n",
       "      <td>11353000</td>\n",
       "      <td>162.900000</td>\n",
       "      <td>acre lot</td>\n",
       "      <td>Hamilton/Silva,_x000D_\\nMoses Lake, WA 98837</td>\n",
       "      <td>69693.063229</td>\n",
       "    </tr>\n",
       "  </tbody>\n",
       "</table>\n",
       "<p>9464 rows × 7 columns</p>\n",
       "</div>"
      ],
      "text/plain": [
       "           type       date     price        area      unit  \\\n",
       "0          Sold 2021-10-22      3000    0.010009  acre lot   \n",
       "1          Sold 2021-11-19      3600    0.350000  acre lot   \n",
       "2          Sold 2022-02-11      4500    0.121671  acre lot   \n",
       "3          Sold 2022-02-11      5000    0.174472  acre lot   \n",
       "4          Sold 2021-11-17      5000    0.310000  acre lot   \n",
       "...         ...        ...       ...         ...       ...   \n",
       "10441   Pending        NaT   8500000  105.000000  acre lot   \n",
       "10443   Pending        NaT   9455000  128.000000  acre lot   \n",
       "10449  For Sale        NaT  10495000  253.400000  acre lot   \n",
       "10451   Pending        NaT  11000000   36.000000  acre lot   \n",
       "10452  For Sale        NaT  11353000  162.900000  acre lot   \n",
       "\n",
       "                                                address  Per Acre Value  \n",
       "0                530 Ne Ste Route, Darrington, WA 98241     3000.000000  \n",
       "1      12603 107th Street Ct, Anderson Island, WA 98303     3600.000000  \n",
       "2                  SW 98th St Lot 1, Lakewood, WA 98498     4500.000000  \n",
       "3                              77th E, Sumner, WA 98390     5000.000000  \n",
       "4                     Bayshore Dr, Bellingham, WA 98226     5000.000000  \n",
       "...                                                 ...             ...  \n",
       "10441                  Dent Rd,_x000D_\\nPasco, WA 99301    80952.380952  \n",
       "10443            Nka River Rd,_x000D_\\nSequim, WA 98382    73867.187500  \n",
       "10449    1000 Discovery Dr SW,_x000D_\\nIlwaco, WA 98624    41416.732439  \n",
       "10451      18712 SE 1st St,_x000D_\\nVancouver, WA 98684   305555.555556  \n",
       "10452      Hamilton/Silva,_x000D_\\nMoses Lake, WA 98837    69693.063229  \n",
       "\n",
       "[9464 rows x 7 columns]"
      ]
     },
     "execution_count": 29,
     "metadata": {},
     "output_type": "execute_result"
    }
   ],
   "source": [
    "df_final"
   ]
  },
  {
   "cell_type": "code",
   "execution_count": 30,
   "metadata": {},
   "outputs": [
    {
     "data": {
      "text/plain": [
       "9464"
      ]
     },
     "execution_count": 30,
     "metadata": {},
     "output_type": "execute_result"
    }
   ],
   "source": [
    "len(df)"
   ]
  },
  {
   "cell_type": "code",
   "execution_count": 31,
   "metadata": {},
   "outputs": [
    {
     "data": {
      "text/plain": [
       "Int64Index([ 4177,  4178,  4182,  4184,  4187,  4191,  4192,  4195,  4197,\n",
       "             4201,\n",
       "            ...\n",
       "            10445, 10446, 10447, 10448, 10450, 10453, 10454, 10455, 10456,\n",
       "            10457],\n",
       "           dtype='int64', length=994)"
      ]
     },
     "execution_count": 31,
     "metadata": {},
     "output_type": "execute_result"
    }
   ],
   "source": [
    "ind_diff"
   ]
  },
  {
   "cell_type": "code",
   "execution_count": 32,
   "metadata": {},
   "outputs": [],
   "source": [
    "df_final.to_csv('IQR ia Recently sold2.csv')"
   ]
  },
  {
   "cell_type": "code",
   "execution_count": null,
   "metadata": {},
   "outputs": [],
   "source": []
  }
 ],
 "metadata": {
  "kernelspec": {
   "display_name": "Python 3",
   "language": "python",
   "name": "python3"
  },
  "language_info": {
   "codemirror_mode": {
    "name": "ipython",
    "version": 3
   },
   "file_extension": ".py",
   "mimetype": "text/x-python",
   "name": "python",
   "nbconvert_exporter": "python",
   "pygments_lexer": "ipython3",
   "version": "3.8.8"
  }
 },
 "nbformat": 4,
 "nbformat_minor": 4
}
